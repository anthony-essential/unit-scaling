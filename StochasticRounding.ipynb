{
 "cells": [
  {
   "cell_type": "code",
   "execution_count": 1,
   "id": "9ec2e382-fa7c-4e8c-9e6b-7db461641166",
   "metadata": {},
   "outputs": [],
   "source": [
    "import torch\n",
    "from torch import Tensor\n",
    "from typing import Optional\n",
    "\n",
    "@torch.jit.script\n",
    "def undo_int8_fp8(\n",
    "        fp8_tensor: torch.Tensor,\n",
    "        n_mantissa: int,\n",
    "        target_dt: torch.dtype,\n",
    "        out: Optional[torch.Tensor] = None,\n",
    "        scaling_factor: float = 1,\n",
    ") -> torch.Tensor:\n",
    "    \"\"\"Unpack a float, represented as an int8.\"\"\"\n",
    "    # Isolate mantissa.\n",
    "    mantissa = (fp8_tensor << 8 - n_mantissa) >> 8 - n_mantissa\n",
    "    # Remove sign, isolate exponent.\n",
    "    exponent = (torch.bitwise_and(fp8_tensor, int(2 ** 7 - 1)) >> n_mantissa)\n",
    "    # Rescale mantissa.\n",
    "    tensor_binary_fraction = 1 + mantissa.div(torch.tensor(2 ** n_mantissa, dtype=target_dt))\n",
    "    # Remove the leading 1 if the exponent is meant to represent a smaller number.\n",
    "    tensor_binary_fraction = torch.where(exponent <= 0, tensor_binary_fraction - 1, tensor_binary_fraction)\n",
    "    n_exponent = 8 - n_mantissa - 1\n",
    "    bias = (2 ** (n_exponent - 1)) - 2\n",
    "    rtn = torch.pow(torch.tensor(-1, dtype=target_dt), fp8_tensor >> 7) * (\n",
    "            tensor_binary_fraction * 2 ** (exponent - bias - 1)) / scaling_factor\n",
    "    # Detect if it is subnormal.\n",
    "    rtn *= torch.where(torch.bitwise_and(fp8_tensor >> n_mantissa, 0b1111111) > 0, 1, 2)\n",
    "    if out is not None:\n",
    "        out.copy_(rtn)\n",
    "        return out\n",
    "    else:\n",
    "        return rtn"
   ]
  },
  {
   "cell_type": "code",
   "execution_count": 2,
   "id": "99b73ef7-cc3c-47e7-9f6a-702a0fa0bb9d",
   "metadata": {},
   "outputs": [
    {
     "name": "stdout",
     "output_type": "stream",
     "text": [
      "tensor([57344.])\n"
     ]
    }
   ],
   "source": [
    "n_mantissa = 2\n",
    "target_dt = torch.float32\n",
    "fp8_tensor = torch.tensor([0b01111011], dtype=torch.uint8)  # Toy FP8 input tensor\n",
    "expected_result = undo_int8_fp8(fp8_tensor, n_mantissa, target_dt)\n",
    "print(expected_result)"
   ]
  },
  {
   "cell_type": "code",
   "execution_count": 3,
   "id": "fee15e83-80f5-4651-8495-c2dca71a0ae3",
   "metadata": {},
   "outputs": [
    {
     "name": "stdout",
     "output_type": "stream",
     "text": [
      "tensor([1.])\n"
     ]
    }
   ],
   "source": [
    "n_mantissa = 2\n",
    "target_dt = torch.float32\n",
    "fp8_tensor = torch.tensor([0b00000100], dtype=torch.uint8)  # Toy FP8 input tensor\n",
    "expected_result = undo_int8_fp8(fp8_tensor, n_mantissa, target_dt)\n",
    "print(expected_result*2**14)"
   ]
  },
  {
   "cell_type": "code",
   "execution_count": 4,
   "id": "51a9ff6c-3b19-43f2-a50f-5b905305d87b",
   "metadata": {},
   "outputs": [
    {
     "name": "stdout",
     "output_type": "stream",
     "text": [
      "tensor([0.7500])\n"
     ]
    }
   ],
   "source": [
    "n_mantissa = 2\n",
    "target_dt = torch.float32\n",
    "fp8_tensor = torch.tensor([0b00000011], dtype=torch.uint8)  # Toy FP8 input tensor\n",
    "expected_result = undo_int8_fp8(fp8_tensor, n_mantissa, target_dt)\n",
    "print(expected_result*(2**14))"
   ]
  },
  {
   "cell_type": "code",
   "execution_count": 5,
   "id": "5ed6b6e0-c0b4-4226-8152-f41540c7f3de",
   "metadata": {},
   "outputs": [
    {
     "name": "stdout",
     "output_type": "stream",
     "text": [
      "tensor([448.])\n"
     ]
    }
   ],
   "source": [
    "n_mantissa = 3\n",
    "target_dt = torch.float32\n",
    "fp8_tensor = torch.tensor([0b01111110], dtype=torch.uint8)  # Toy FP8 input tensor\n",
    "expected_result = undo_int8_fp8(fp8_tensor, n_mantissa, target_dt)\n",
    "print(expected_result)\n",
    "n_mantissa = 3\n",
    "target_dt = torch.float32\n",
    "fp8_tensor = torch.tensor([0b00001000], dtype=torch.uint8)  # Toy FP8 input tensor\n",
    "expected_result = undo_int8_fp8(fp8_tensor, n_mantissa, target_dt)"
   ]
  },
  {
   "cell_type": "code",
   "execution_count": 6,
   "id": "268472db-8f61-49a0-8f92-aad8db3dcf65",
   "metadata": {},
   "outputs": [
    {
     "name": "stdout",
     "output_type": "stream",
     "text": [
      "tensor([0.8750])\n"
     ]
    }
   ],
   "source": [
    "n_mantissa = 3\n",
    "target_dt = torch.float32\n",
    "fp8_tensor = torch.tensor([0b00000111], dtype=torch.uint8)  # Toy FP8 input tensor\n",
    "expected_result = undo_int8_fp8(fp8_tensor, n_mantissa, target_dt)\n",
    "print(expected_result*(2**6))"
   ]
  },
  {
   "cell_type": "code",
   "execution_count": 7,
   "id": "6206c5ea-48d1-4973-9152-5c676cb225d2",
   "metadata": {},
   "outputs": [
    {
     "name": "stdout",
     "output_type": "stream",
     "text": [
      "tensor([1.])\n"
     ]
    }
   ],
   "source": [
    "n_mantissa = 3\n",
    "target_dt = torch.float32\n",
    "fp8_tensor = torch.tensor([0b00000001], dtype=torch.uint8)  # Toy FP8 input tensor\n",
    "expected_result = undo_int8_fp8(fp8_tensor, n_mantissa, target_dt)\n",
    "print(expected_result*2**9)"
   ]
  },
  {
   "cell_type": "code",
   "execution_count": 15,
   "id": "606a5c6d-6d2d-4212-acb0-c3d5ecb98cf5",
   "metadata": {},
   "outputs": [],
   "source": [
    "def round_to_fp8_represented_as_int8(\n",
    "        t: Tensor,\n",
    "        n_mantissa: int,\n",
    "        out: Optional[Tensor] = None,\n",
    "        scaling_factor: float = 1.0,\n",
    ") -> Tensor:\n",
    "    \n",
    "    # Casting to avoid any surprises.\n",
    "    t = t.float()\n",
    "    # FP8.\n",
    "    n_total_bits = 8\n",
    "    n_exponent = n_total_bits - n_mantissa - 1\n",
    "    bias = (2 ** (n_exponent - 1)) - 1\n",
    "    abs_scaled = torch.abs(t) * scaling_factor\n",
    "\n",
    "    # The standards don't admit a pattern for the maximum normal value, so we hardcode them here.\n",
    "    if n_mantissa == 3:\n",
    "        max_value = 448\n",
    "    if n_mantissa == 2:\n",
    "        max_value = 57344\n",
    "    \n",
    "    # Compute the exponent and mantissa that we need to represent.\n",
    "    max_ = torch.tensor((max_value)).type((abs_scaled).dtype)\n",
    "    abs_scaled = torch.clamp(abs_scaled, min=0, max=max_)\n",
    "    \n",
    "    # Compute the number that needs to be represented for the exponent.\n",
    "    exponent = torch.floor(torch.log2(abs_scaled)) + bias\n",
    "    \n",
    "    # We can't use this field for an exponent of less than zero. So, we'll track if we did that, and then clamp it.\n",
    "    issubnormal = exponent <= 0\n",
    "    iszero = exponent == 0\n",
    "    exponent = torch.clamp(exponent, 0)\n",
    "\n",
    "    # Extract the mantissa.\n",
    "    mantissa = torch.where(issubnormal, (abs_scaled / (2 ** (exponent - bias + 1))) * (2 ** n_mantissa),(abs_scaled / (2 ** (exponent - bias))) * (2 ** n_mantissa))\n",
    "    # In the case of a normal value, there is a leading one (normal).\n",
    "    mantissa = mantissa - torch.where(issubnormal, 0, (2 ** n_mantissa))\n",
    "    \n",
    "    # Calculate the lower and upper bound fp8 float values.\n",
    "    lower_mantissa = torch.floor(mantissa)\n",
    "    upper_mantissa = torch.ceil(mantissa)\n",
    "\n",
    "    # Compute the probability for stochastic rounding.\n",
    "    # This is given by the gap in the representation - unless it's subnormal.\n",
    "    lower_fp8_float = torch.where(issubnormal, ((lower_mantissa / (2 ** n_mantissa))) * (2 ** (exponent - bias + 1)),((lower_mantissa / (2 ** n_mantissa))) * (2 ** (exponent - bias)))  # bias + 1 if subnorm\n",
    "    upper_fp8_float = torch.where(issubnormal, ((upper_mantissa / (2 ** n_mantissa))) * (2 ** (exponent - bias + 1)),((upper_mantissa / (2 ** n_mantissa))) * (2 ** (exponent - bias)))  # bias + 1 if subnorm\n",
    "    interval = upper_fp8_float - lower_fp8_float\n",
    "\n",
    "    diff_lower = abs_scaled - lower_fp8_float\n",
    "    prob_round_up = diff_lower / interval\n",
    "    stoch_round_probs = torch.rand_like(prob_round_up.float())\n",
    "    rounded_mantissa = torch.where(stoch_round_probs < prob_round_up, upper_mantissa, lower_mantissa)\n",
    "\n",
    "    \n",
    "    fp8_number = (exponent * (2 ** n_mantissa)) + rounded_mantissa\n",
    "    # Apply the sign bit.\n",
    "    fp8_number_uint8 = torch.bitwise_or(torch.clamp(fp8_number, min=0, max=255).to(torch.uint8),\n",
    "                                        (t.signbit().type(torch.uint8) << 7))\n",
    "    \n",
    "    # The range between the smallest value and zero is expressible with stochastic rounding, too.\n",
    "    min_value = undo_int8_fp8(torch.tensor([1], dtype=torch.uint8), n_mantissa, target_dt=torch.float).item()\n",
    "    small_mask = abs_scaled < min_value\n",
    "    \n",
    "    random_numbers = torch.rand_like(abs_scaled.float())\n",
    "    fp8_number_uint8[small_mask] = torch.where(abs_scaled <= random_numbers * min_value,\n",
    "                                               torch.tensor(0, dtype=torch.uint8),\n",
    "                                               torch.bitwise_or(torch.tensor(1, dtype=torch.uint8),\n",
    "                                                                (t.signbit().type(torch.uint8) << 7)))[small_mask]\n",
    "    if out is not None:\n",
    "        out.copy_(fp8_number_uint8)\n",
    "        return out\n",
    "    else:\n",
    "        return fp8_number_uint8"
   ]
  },
  {
   "cell_type": "code",
   "execution_count": 16,
   "id": "39a0d798-8657-4950-a96f-6dcfecf7c066",
   "metadata": {},
   "outputs": [
    {
     "data": {
      "text/plain": [
       "[<matplotlib.lines.Line2D at 0x130128220>]"
      ]
     },
     "execution_count": 16,
     "metadata": {},
     "output_type": "execute_result"
    },
    {
     "data": {
      "image/png": "[encoded data removed]",
      "text/plain": [
       "<Figure size 640x480 with 1 Axes>"
      ]
     },
     "metadata": {},
     "output_type": "display_data"
    }
   ],
   "source": [
    "from torch import linspace, logspace\n",
    "v = logspace(-3,2,10)\n",
    "n_mantissa = 3\n",
    "rs = []\n",
    "shots = int(20)\n",
    "for shot in range(shots):\n",
    "    vals = []\n",
    "    for n in v:\n",
    "        vals.append(undo_int8_fp8(round_to_fp8_represented_as_int8(n, n_mantissa), n_mantissa, target_dt=torch.float))\n",
    "    rs.append(torch.tensor(vals))\n",
    "import matplotlib.pyplot as plt\n",
    "plt.plot(v,v)\n",
    "plt.xscale('log')\n",
    "plt.yscale('log')\n",
    "plt.plot(v, torch.mean(torch.stack(rs), axis=0))"
   ]
  },
  {
   "cell_type": "code",
   "execution_count": null,
   "id": "d6a2d56e-1923-4090-88ff-3ad1c1fde405",
   "metadata": {},
   "outputs": [],
   "source": []
  }
 ],
 "metadata": {
  "kernelspec": {
   "display_name": "Python 3 (ipykernel)",
   "language": "python",
   "name": "python3"
  },
  "language_info": {
   "codemirror_mode": {
    "name": "ipython",
    "version": 3
   },
   "file_extension": ".py",
   "mimetype": "text/x-python",
   "name": "python",
   "nbconvert_exporter": "python",
   "pygments_lexer": "ipython3",
   "version": "3.10.13"
  }
 },
 "nbformat": 4,
 "nbformat_minor": 5
}
